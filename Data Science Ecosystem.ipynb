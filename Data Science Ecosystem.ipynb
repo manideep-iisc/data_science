{
 "cells": [
  {
   "cell_type": "markdown",
   "id": "9561e155",
   "metadata": {},
   "source": [
    "# Data Science Tools and Ecosystem"
   ]
  },
  {
   "cell_type": "markdown",
   "id": "f479b20b",
   "metadata": {},
   "source": [
    "## In this notebook, Data Science Tools and Ecosystem are summarized."
   ]
  },
  {
   "cell_type": "markdown",
   "id": "43c2f524",
   "metadata": {},
   "source": [
    "### Some of the popular languages that Data Scientists use are:"
   ]
  },
  {
   "cell_type": "markdown",
   "id": "80a3b6d7",
   "metadata": {},
   "source": [
    "#### -Python"
   ]
  },
  {
   "cell_type": "markdown",
   "id": "629f1988",
   "metadata": {},
   "source": [
    "#### -R"
   ]
  },
  {
   "cell_type": "markdown",
   "id": "5ec010b8",
   "metadata": {},
   "source": [
    "#### -SQL"
   ]
  },
  {
   "cell_type": "markdown",
   "id": "f36cb79f",
   "metadata": {},
   "source": [
    "#### -Julia"
   ]
  },
  {
   "cell_type": "markdown",
   "id": "29a0865c",
   "metadata": {},
   "source": [
    "#### -Scala"
   ]
  },
  {
   "cell_type": "markdown",
   "id": "ba24aaf0",
   "metadata": {},
   "source": [
    "## "
   ]
  },
  {
   "cell_type": "markdown",
   "id": "ff3ae289",
   "metadata": {},
   "source": [
    "## Some of the commonly used libraries by Data Scientists include:"
   ]
  },
  {
   "cell_type": "markdown",
   "id": "a0fb9364",
   "metadata": {},
   "source": [
    "#### -Pandas\n"
   ]
  },
  {
   "cell_type": "markdown",
   "id": "dbd544ca",
   "metadata": {},
   "source": [
    "#### -Numpy"
   ]
  },
  {
   "cell_type": "markdown",
   "id": "ee167c41",
   "metadata": {},
   "source": [
    "#### -Matplotlib"
   ]
  },
  {
   "cell_type": "markdown",
   "id": "58963036",
   "metadata": {},
   "source": [
    "#### -Seaborn"
   ]
  },
  {
   "cell_type": "markdown",
   "id": "a7fbdf94",
   "metadata": {},
   "source": [
    "#### -Tensorflow"
   ]
  },
  {
   "cell_type": "markdown",
   "id": "7d80240f",
   "metadata": {},
   "source": [
    "#### -Scipy"
   ]
  },
  {
   "cell_type": "markdown",
   "id": "e6d20b4b",
   "metadata": {},
   "source": [
    "## "
   ]
  },
  {
   "cell_type": "markdown",
   "id": "c37b0ee3",
   "metadata": {},
   "source": [
    "## Data Science Tools\n",
    "| Data Science Tools|\n",
    "|-------------------|\n",
    "| R studio |\n",
    "| Anaconda |\n",
    "| Oracle |"
   ]
  },
  {
   "cell_type": "markdown",
   "id": "6402d25b",
   "metadata": {},
   "source": [
    "## "
   ]
  },
  {
   "cell_type": "markdown",
   "id": "b9a7e1ee",
   "metadata": {},
   "source": [
    "## Arithmetic Expression Examples"
   ]
  },
  {
   "cell_type": "markdown",
   "id": "9924659c",
   "metadata": {},
   "source": [
    "#### -Addition"
   ]
  },
  {
   "cell_type": "markdown",
   "id": "cc54250a",
   "metadata": {},
   "source": [
    "#### -Subtraction"
   ]
  },
  {
   "cell_type": "markdown",
   "id": "9802b72a",
   "metadata": {},
   "source": [
    "#### -Multiplication"
   ]
  },
  {
   "cell_type": "markdown",
   "id": "ea6cca48",
   "metadata": {},
   "source": [
    "#### -Division"
   ]
  },
  {
   "cell_type": "markdown",
   "id": "a2396b64",
   "metadata": {},
   "source": [
    "#### -Modulus"
   ]
  },
  {
   "cell_type": "markdown",
   "id": "d4f00b4e",
   "metadata": {},
   "source": [
    "## "
   ]
  },
  {
   "cell_type": "markdown",
   "id": "d2656183",
   "metadata": {},
   "source": [
    "## Multiply Add integers"
   ]
  },
  {
   "cell_type": "code",
   "execution_count": 2,
   "id": "bca3b43c",
   "metadata": {},
   "outputs": [
    {
     "data": {
      "text/plain": [
       "17"
      ]
     },
     "execution_count": 2,
     "metadata": {},
     "output_type": "execute_result"
    }
   ],
   "source": [
    "# This is a simple arithmetic expression and then add integers\n",
    "result=(3*4)+5\n",
    "result"
   ]
  },
  {
   "cell_type": "markdown",
   "id": "d14a3a4c",
   "metadata": {},
   "source": [
    "## "
   ]
  },
  {
   "cell_type": "markdown",
   "id": "40a6f3bd",
   "metadata": {},
   "source": [
    "## Minutes to hours"
   ]
  },
  {
   "cell_type": "code",
   "execution_count": 3,
   "id": "d7004151",
   "metadata": {},
   "outputs": [
    {
     "data": {
      "text/plain": [
       "3.3333333333333335"
      ]
     },
     "execution_count": 3,
     "metadata": {},
     "output_type": "execute_result"
    }
   ],
   "source": [
    "# This will convert 200 minutes to hours by dividing by 60\n",
    "minutes=200\n",
    "hours=minutes/60\n",
    "hours"
   ]
  },
  {
   "cell_type": "markdown",
   "id": "7979cc95",
   "metadata": {},
   "source": [
    "## "
   ]
  },
  {
   "cell_type": "markdown",
   "id": "03b51b78",
   "metadata": {},
   "source": [
    "## Objectives"
   ]
  },
  {
   "cell_type": "markdown",
   "id": "757a0100",
   "metadata": {},
   "source": [
    "#### -Add comments to code cell"
   ]
  },
  {
   "cell_type": "markdown",
   "id": "dc315ab8",
   "metadata": {},
   "source": [
    "#### -create markdown cell"
   ]
  },
  {
   "cell_type": "markdown",
   "id": "1832e32d",
   "metadata": {},
   "source": [
    "#### -Format content of markdown cells with heading styles"
   ]
  },
  {
   "cell_type": "markdown",
   "id": "a39d3e94",
   "metadata": {},
   "source": [
    "## "
   ]
  },
  {
   "cell_type": "markdown",
   "id": "f136b645",
   "metadata": {},
   "source": [
    "#  Author"
   ]
  },
  {
   "cell_type": "markdown",
   "id": "9b40714a",
   "metadata": {},
   "source": [
    "##  Manideep Ganapavarapu"
   ]
  },
  {
   "cell_type": "code",
   "execution_count": null,
   "id": "0ef2315f",
   "metadata": {},
   "outputs": [],
   "source": []
  }
 ],
 "metadata": {
  "kernelspec": {
   "display_name": "Python 3 (ipykernel)",
   "language": "python",
   "name": "python3"
  },
  "language_info": {
   "codemirror_mode": {
    "name": "ipython",
    "version": 3
   },
   "file_extension": ".py",
   "mimetype": "text/x-python",
   "name": "python",
   "nbconvert_exporter": "python",
   "pygments_lexer": "ipython3",
   "version": "3.10.9"
  }
 },
 "nbformat": 4,
 "nbformat_minor": 5
}
